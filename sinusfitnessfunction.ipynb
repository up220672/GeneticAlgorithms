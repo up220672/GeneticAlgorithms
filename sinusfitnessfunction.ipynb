{
 "cells": [
  {
   "cell_type": "code",
   "execution_count": null,
   "id": "e0223529",
   "metadata": {},
   "outputs": [],
   "source": [
    "import numpy as np\n",
    "import matplotlib.pyplot as plt"
   ]
  },
  {
   "cell_type": "code",
   "execution_count": null,
   "id": "c99657df",
   "metadata": {},
   "outputs": [],
   "source": [
    "def binary2decimal(chromosome, n_genes, n_alleles, scale, offset):\n",
    "    chromosome = chromosome[::-1]\n",
    "    conversion = []\n",
    "    for i in range(n_genes):\n",
    "        decimal_conversion = []\n",
    "        for j in range(i*n_alleles, (i+1)*n_alleles):\n",
    "            decimal_conversion.append(chromosome[j]*2**(j-n_alleles*i))\n",
    "        conversion.append((np.sum(decimal_conversion)-offset)/scale)\n",
    "    return np.array(conversion)"
   ]
  },
  {
   "cell_type": "code",
   "execution_count": null,
   "id": "ea9a3a5e",
   "metadata": {},
   "outputs": [],
   "source": [
    "def fitness_evaluation(x, n_genes, n_alleles, scale, offset):\n",
    "    x = binary2decimal(x, n_genes, n_alleles, scale, offset)\n",
    "    fitness = abs(0.25 - np.sin(x))\n",
    "    return fitness"
   ]
  },
  {
   "cell_type": "code",
   "execution_count": null,
   "id": "8ff98438",
   "metadata": {},
   "outputs": [],
   "source": [
    "def final_result(best_chromosome, array_best_fitness, array_worst_fitness, n_genes, n_alleles, scale, offset):\n",
    "    best_chromosome = binary2decimal(best_chromosome, n_genes, n_alleles, scale, offset)\n",
    "    sine_values = np.sin(best_chromosome)\n",
    "    print(\"########################################################################\")\n",
    "    print(\"#\")\n",
    "    print(f\"#   Best fitness: {array_best_fitness[-1]:.2f}\")\n",
    "    print(f\"#   Best candidate solution: {best_chromosome}\")\n",
    "    print(f\"#   Sinus value obtained: {sine_values}\")\n",
    "    print(\"#\")\n",
    "    print(\"########################################################################\")\n",
    "    plt.figure(figsize=(10, 10))\n",
    "    plt.plot(array_worst_fitness, label='Worst Fitness', color='red')\n",
    "    plt.plot(array_best_fitness, label='Best Fitness', color='green')\n",
    "    plt.title('Fitness Evolution')\n",
    "    plt.legend()\n",
    "    plt.show()"
   ]
  }
 ],
 "metadata": {
  "kernelspec": {
   "display_name": "Python 3",
   "language": "python",
   "name": "python3"
  },
  "language_info": {
   "codemirror_mode": {
    "name": "ipython",
    "version": 3
   },
   "file_extension": ".py",
   "mimetype": "text/x-python",
   "name": "python",
   "nbconvert_exporter": "python",
   "pygments_lexer": "ipython3",
   "version": "3.11.9"
  }
 },
 "nbformat": 4,
 "nbformat_minor": 5
}
