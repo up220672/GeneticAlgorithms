{
 "cells": [
  {
   "cell_type": "code",
   "execution_count": null,
   "id": "e0223529",
   "metadata": {},
   "outputs": [],
   "source": [
    "import numpy as np"
   ]
  },
  {
   "cell_type": "code",
   "execution_count": null,
   "id": "c99657df",
   "metadata": {},
   "outputs": [],
   "source": [
    "def binary2decimal(binary):\n",
    "    return None"
   ]
  },
  {
   "cell_type": "code",
   "execution_count": null,
   "id": "ea9a3a5e",
   "metadata": {},
   "outputs": [],
   "source": [
    "def fitness_evaluation(x):\n",
    "    x = binary2decimal(x)\n",
    "    fitness = abs(0.25 - np.sin(x))\n",
    "    return fitness"
   ]
  }
 ],
 "metadata": {
  "language_info": {
   "name": "python"
  }
 },
 "nbformat": 4,
 "nbformat_minor": 5
}
