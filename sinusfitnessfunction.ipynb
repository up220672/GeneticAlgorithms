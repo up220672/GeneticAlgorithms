{
 "cells": [
  {
   "cell_type": "code",
   "execution_count": 1,
   "id": "e0223529",
   "metadata": {},
   "outputs": [],
   "source": [
    "import numpy as np"
   ]
  },
  {
   "cell_type": "code",
   "execution_count": null,
   "id": "c99657df",
   "metadata": {},
   "outputs": [],
   "source": [
    "def binary2decimal(chromosome, n_genes, n_alleles, scale, offset):\n",
    "    chromosome = chromosome[::-1]\n",
    "    conversion = []\n",
    "    for i in range(n_genes):\n",
    "        decimal_conversion = []\n",
    "        for j in range(i*n_alleles, (i+1)*n_alleles):\n",
    "            decimal_conversion.append(chromosome[j]*2**(j-n_alleles*i))\n",
    "        conversion.append((np.sum(decimal_conversion)-offset)/scale)\n",
    "    print(conversion)\n",
    "    return np.array(conversion)"
   ]
  },
  {
   "cell_type": "code",
   "execution_count": null,
   "id": "ea9a3a5e",
   "metadata": {},
   "outputs": [],
   "source": [
    "def fitness_evaluation(x, n_genes, n_alleles, scale, offset):\n",
    "    x = binary2decimal(x, n_genes, n_alleles, scale, offset)\n",
    "    fitness = abs(0.25 - np.sin(x))\n",
    "    return fitness"
   ]
  }
 ],
 "metadata": {
  "kernelspec": {
   "display_name": "Python 3",
   "language": "python",
   "name": "python3"
  },
  "language_info": {
   "codemirror_mode": {
    "name": "ipython",
    "version": 3
   },
   "file_extension": ".py",
   "mimetype": "text/x-python",
   "name": "python",
   "nbconvert_exporter": "python",
   "pygments_lexer": "ipython3",
   "version": "3.11.9"
  }
 },
 "nbformat": 4,
 "nbformat_minor": 5
}
