{
 "cells": [
  {
   "cell_type": "code",
   "execution_count": null,
   "id": "e0223529",
   "metadata": {},
   "outputs": [],
   "source": [
    "import numpy as np\n",
    "import matplotlib.pyplot as plt"
   ]
  },
  {
   "cell_type": "code",
   "execution_count": null,
   "id": "c99657df",
   "metadata": {},
   "outputs": [],
   "source": [
    "def binary2decimal(chromosome, n_genes, n_alleles, scale, offset):\n",
    "    chromosome = chromosome[::-1]\n",
    "    conversion = []\n",
    "    for i in range(n_genes):\n",
    "        decimal_conversion = []\n",
    "        for j in range(i*n_alleles, (i+1)*n_alleles):\n",
    "            decimal_conversion.append(chromosome[j]*2**(j-n_alleles*i))\n",
    "        conversion.append((np.sum(decimal_conversion)-offset)/scale)\n",
    "    return np.array(conversion)"
   ]
  },
  {
   "cell_type": "code",
   "execution_count": null,
   "id": "ea9a3a5e",
   "metadata": {},
   "outputs": [],
   "source": [
    "def fitness_evaluation(x, n_genes, n_alleles, scale, offset):\n",
    "    x = binary2decimal(x, n_genes, n_alleles, scale, offset)\n",
    "    c1 = x[0]\n",
    "    c2 = x[1]\n",
    "    h = np.sqrt(c1**2 + c2**2)\n",
    "    P = c1 + c2 + h\n",
    "    A = (c1 * c2) / 2\n",
    "    PD = 11.5988\n",
    "    AD = 5.0490\n",
    "    Ep = np.abs(PD - P)\n",
    "    Ea = np.abs(AD - A)\n",
    "    fitness_value = [(Ep + Ea) / 2]\n",
    "    return fitness_value"
   ]
  },
  {
   "cell_type": "code",
   "execution_count": null,
   "id": "8ff98438",
   "metadata": {},
   "outputs": [],
   "source": [
    "def final_result(best_chromosome, array_best_fitness, array_worst_fitness, n_genes, n_alleles, scale, offset):\n",
    "    best_chromosome = binary2decimal(best_chromosome, n_genes, n_alleles, scale, offset)\n",
    "    c1 = best_chromosome[0]\n",
    "    c2 = best_chromosome[1]\n",
    "    h = np.sqrt(c1**2 + c2**2)\n",
    "    P = c1 + c2 + h\n",
    "    A = (c1 * c2) / 2\n",
    "    print(\"########################################################################\")\n",
    "    print(\"#\")\n",
    "    print(f\"#   Best fitness: {array_best_fitness[-1]}\")\n",
    "    print(f\"#   Best candidate solution: {best_chromosome}\")\n",
    "    print(f\"#   Triangle properties:\")\n",
    "    print(f\"#     Cathetus 1 (c1): {c1:.4f}\")\n",
    "    print(f\"#     Cathetus 2 (c2): {c2:.4f}\")\n",
    "    print(f\"#     Hypotenuse (h): {h:.4f}\")\n",
    "    print(f\"#     Perimeter (P): {P:.4f}\")\n",
    "    print(f\"#     Area (A): {A:.4f}\")\n",
    "    print(\"#\")\n",
    "    print(\"########################################################################\")\n",
    "    plt.figure(figsize=(10, 10))\n",
    "    plt.plot(array_worst_fitness, label='Worst Fitness', color='red')\n",
    "    plt.plot(array_best_fitness, label='Best Fitness', color='green')\n",
    "    plt.title('Fitness Evolution')\n",
    "    plt.legend()\n",
    "    plt.show()"
   ]
  }
 ],
 "metadata": {
  "kernelspec": {
   "display_name": "Python 3",
   "language": "python",
   "name": "python3"
  },
  "language_info": {
   "codemirror_mode": {
    "name": "ipython",
    "version": 3
   },
   "file_extension": ".py",
   "mimetype": "text/x-python",
   "name": "python",
   "nbconvert_exporter": "python",
   "pygments_lexer": "ipython3",
   "version": "3.11.9"
  }
 },
 "nbformat": 4,
 "nbformat_minor": 5
}
