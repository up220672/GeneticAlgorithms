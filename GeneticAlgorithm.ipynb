{
 "cells": [
  {
   "cell_type": "code",
   "execution_count": null,
   "id": "f6890292",
   "metadata": {},
   "outputs": [],
   "source": [
    "import numpy as np"
   ]
  },
  {
   "cell_type": "code",
   "execution_count": null,
   "id": "15f9479b",
   "metadata": {},
   "outputs": [],
   "source": [
    "class Genetic_Algorithm:\n",
    "    def __init__(\n",
    "        self,\n",
    "        n_genes,\n",
    "        n_alleles,\n",
    "        size_population,\n",
    "    ):\n",
    "        self.n_genes = n_genes\n",
    "        self.n_alleles = n_alleles\n",
    "        self.size_population = size_population\n",
    "        self.chromosomes = []\n",
    "        self.fitness = []\n",
    "    \n",
    "    def init_population(self):\n",
    "        self.chromosomes = []"
   ]
  }
 ],
 "metadata": {
  "language_info": {
   "name": "python"
  }
 },
 "nbformat": 4,
 "nbformat_minor": 5
}
