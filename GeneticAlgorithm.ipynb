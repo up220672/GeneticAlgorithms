{
 "cells": [
  {
   "cell_type": "code",
   "execution_count": 60,
   "id": "f6890292",
   "metadata": {},
   "outputs": [],
   "source": [
    "import numpy as np\n",
    "import import_ipynb\n",
    "import sinusfitnessfunction as ff"
   ]
  },
  {
   "cell_type": "code",
   "execution_count": 61,
   "id": "15f9479b",
   "metadata": {},
   "outputs": [],
   "source": [
    "class Genetic_Algorithm:\n",
    "    def __init__(\n",
    "        self,\n",
    "        n_genes,\n",
    "        n_alleles,\n",
    "        size_population,\n",
    "    ):\n",
    "        self.n_genes = n_genes\n",
    "        self.n_alleles = n_alleles\n",
    "        self.total_alleles = self.n_alleles * self.n_genes\n",
    "        self.size_population = size_population\n",
    "        self.chromosomes = []\n",
    "        self.fitness = []\n",
    "    \n",
    "    def init_population(self):\n",
    "        self.chromosomes = np.array([[1 if np.random.rand() > 0.5 else 0 for j in range(self.total_alleles)]for i in range(self.size_population) ])\n"
   ]
  },
  {
   "cell_type": "code",
   "execution_count": 62,
   "id": "c16abea0",
   "metadata": {},
   "outputs": [
    {
     "data": {
      "text/plain": [
       "[]"
      ]
     },
     "execution_count": 62,
     "metadata": {},
     "output_type": "execute_result"
    }
   ],
   "source": [
    "Genetic_Algorithm1 = Genetic_Algorithm(\n",
    "    3, 3, 5\n",
    ")\n",
    "Genetic_Algorithm1.chromosomes"
   ]
  },
  {
   "cell_type": "code",
   "execution_count": 63,
   "id": "38e1a686",
   "metadata": {},
   "outputs": [
    {
     "data": {
      "text/plain": [
       "array([[1, 0, 1, 1, 0, 1, 0, 1, 1],\n",
       "       [0, 0, 0, 1, 0, 1, 0, 1, 0],\n",
       "       [0, 1, 1, 1, 1, 0, 0, 1, 0],\n",
       "       [1, 1, 1, 1, 0, 0, 1, 1, 1],\n",
       "       [1, 1, 1, 1, 1, 0, 0, 0, 0]])"
      ]
     },
     "execution_count": 63,
     "metadata": {},
     "output_type": "execute_result"
    }
   ],
   "source": [
    "Genetic_Algorithm1.init_population()\n",
    "Genetic_Algorithm1.chromosomes"
   ]
  },
  {
   "cell_type": "code",
   "execution_count": 64,
   "id": "3b5d528e",
   "metadata": {},
   "outputs": [
    {
     "name": "stdout",
     "output_type": "stream",
     "text": [
      "[3, 5, 5]\n"
     ]
    }
   ],
   "source": [
    "chromosome = Genetic_Algorithm1.chromosomes[0][::-1]\n",
    "n_alleles = 3\n",
    "n_genes = 3\n",
    "conversion = []\n",
    "for i in range(n_genes):\n",
    "    decimal_conversion = []\n",
    "    for j in range(i*n_alleles, (i+1)*n_alleles):\n",
    "        decimal_conversion.append(chromosome[j]*2**(j-n_alleles*i))\n",
    "    conversion.append(np.sum(decimal_conversion))\n",
    "print(conversion)\n"
   ]
  }
 ],
 "metadata": {
  "kernelspec": {
   "display_name": "Python 3",
   "language": "python",
   "name": "python3"
  },
  "language_info": {
   "codemirror_mode": {
    "name": "ipython",
    "version": 3
   },
   "file_extension": ".py",
   "mimetype": "text/x-python",
   "name": "python",
   "nbconvert_exporter": "python",
   "pygments_lexer": "ipython3",
   "version": "3.11.9"
  }
 },
 "nbformat": 4,
 "nbformat_minor": 5
}
