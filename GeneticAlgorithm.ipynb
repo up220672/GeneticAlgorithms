{
 "cells": [
  {
   "cell_type": "code",
   "execution_count": 46,
   "id": "f6890292",
   "metadata": {},
   "outputs": [],
   "source": [
    "import numpy as np\n",
    "import import_ipynb\n",
    "import sinusfitnessfunction as ff"
   ]
  },
  {
   "cell_type": "code",
   "execution_count": 47,
   "id": "15f9479b",
   "metadata": {},
   "outputs": [],
   "source": [
    "class Genetic_Algorithm:\n",
    "    def __init__(\n",
    "        self,\n",
    "        n_genes,\n",
    "        n_alleles,\n",
    "        scale,\n",
    "        offset,\n",
    "        size_population,\n",
    "    ):\n",
    "        self.n_genes = n_genes\n",
    "        self.n_alleles = n_alleles\n",
    "        self.total_alleles = self.n_alleles * self.n_genes\n",
    "        self.scale = scale\n",
    "        self.offset = offset\n",
    "        self.size_population = size_population\n",
    "        self.chromosomes = []\n",
    "        self.fitness = []\n",
    "    \n",
    "    def init_population(self):\n",
    "        self.chromosomes = np.array([[1 if np.random.rand() > 0.5 else 0 for j in range(self.total_alleles)]for i in range(self.size_population) ])\n",
    "        self.fitness = [ff.fitness_evaluation(self.chromosomes[i], self.n_genes, self.n_alleles, self.scale, self.offset)\n",
    "                        for i in range(self.size_population)]\n"
   ]
  },
  {
   "cell_type": "code",
   "execution_count": 48,
   "id": "c16abea0",
   "metadata": {},
   "outputs": [
    {
     "data": {
      "text/plain": [
       "[]"
      ]
     },
     "execution_count": 48,
     "metadata": {},
     "output_type": "execute_result"
    }
   ],
   "source": [
    "Genetic_Algorithm1 = Genetic_Algorithm(1, 11, 100, 1023, 5)\n",
    "Genetic_Algorithm1.chromosomes"
   ]
  },
  {
   "cell_type": "code",
   "execution_count": 49,
   "id": "38e1a686",
   "metadata": {},
   "outputs": [
    {
     "name": "stdout",
     "output_type": "stream",
     "text": [
      "[2.49]\n",
      "[-1.94]\n",
      "[8.5]\n",
      "[-8.08]\n",
      "[-6.4]\n"
     ]
    },
    {
     "data": {
      "text/plain": [
       "array([[1, 0, 0, 1, 1, 1, 1, 1, 0, 0, 0],\n",
       "       [0, 1, 1, 0, 0, 1, 1, 1, 1, 0, 1],\n",
       "       [1, 1, 1, 0, 1, 0, 1, 0, 0, 0, 1],\n",
       "       [0, 0, 0, 1, 1, 0, 1, 0, 1, 1, 1],\n",
       "       [0, 0, 1, 0, 1, 1, 1, 1, 1, 1, 1]])"
      ]
     },
     "execution_count": 49,
     "metadata": {},
     "output_type": "execute_result"
    }
   ],
   "source": [
    "Genetic_Algorithm1.init_population()\n",
    "Genetic_Algorithm1.chromosomes"
   ]
  },
  {
   "cell_type": "code",
   "execution_count": 50,
   "id": "3b5d528e",
   "metadata": {},
   "outputs": [
    {
     "data": {
      "text/plain": [
       "[array([0.35645352]),\n",
       " array([1.18261501]),\n",
       " array([0.54848711]),\n",
       " array([1.2245664]),\n",
       " array([0.3665492])]"
      ]
     },
     "execution_count": 50,
     "metadata": {},
     "output_type": "execute_result"
    }
   ],
   "source": [
    "Genetic_Algorithm1.fitness"
   ]
  }
 ],
 "metadata": {
  "kernelspec": {
   "display_name": "Python 3",
   "language": "python",
   "name": "python3"
  },
  "language_info": {
   "codemirror_mode": {
    "name": "ipython",
    "version": 3
   },
   "file_extension": ".py",
   "mimetype": "text/x-python",
   "name": "python",
   "nbconvert_exporter": "python",
   "pygments_lexer": "ipython3",
   "version": "3.11.9"
  }
 },
 "nbformat": 4,
 "nbformat_minor": 5
}
